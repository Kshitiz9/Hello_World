{
  "nbformat": 4,
  "nbformat_minor": 0,
  "metadata": {
    "colab": {
      "provenance": []
    },
    "kernelspec": {
      "name": "python3",
      "display_name": "Python 3"
    },
    "language_info": {
      "name": "python"
    }
  },
  "cells": [
    {
      "cell_type": "code",
      "execution_count": 1,
      "metadata": {
        "id": "GbKTuget_MIo"
      },
      "outputs": [],
      "source": [
        "set1={1, 56, 24, 98.7, 1000, \"hello\", \"Messi\"}\n"
      ]
    },
    {
      "cell_type": "code",
      "source": [
        "print(set1)\n"
      ],
      "metadata": {
        "colab": {
          "base_uri": "https://localhost:8080/"
        },
        "id": "gQn92pxs_apm",
        "outputId": "8ba1903a-fd6d-4421-ab9f-8b147dd2bdf6"
      },
      "execution_count": 2,
      "outputs": [
        {
          "output_type": "stream",
          "name": "stdout",
          "text": [
            "{1, 98.7, 1000, 'Messi', 56, 24, 'hello'}\n"
          ]
        }
      ]
    },
    {
      "cell_type": "code",
      "source": [
        "set1"
      ],
      "metadata": {
        "colab": {
          "base_uri": "https://localhost:8080/"
        },
        "id": "bIMOc6Hc_hhf",
        "outputId": "ae6b11a1-d6fa-4ebb-9257-5042ad7f569e"
      },
      "execution_count": 3,
      "outputs": [
        {
          "output_type": "execute_result",
          "data": {
            "text/plain": [
              "{1, 1000, 24, 56, 98.7, 'Messi', 'hello'}"
            ]
          },
          "metadata": {},
          "execution_count": 3
        }
      ]
    },
    {
      "cell_type": "code",
      "source": [
        "set1.add(67.89)\n"
      ],
      "metadata": {
        "id": "BtB_uPPO_sE0"
      },
      "execution_count": 4,
      "outputs": []
    },
    {
      "cell_type": "code",
      "source": [
        "set1"
      ],
      "metadata": {
        "colab": {
          "base_uri": "https://localhost:8080/"
        },
        "id": "WbGCyyDb_1dh",
        "outputId": "9f354e19-6681-4f5a-ca7c-eac337f80a4d"
      },
      "execution_count": 5,
      "outputs": [
        {
          "output_type": "execute_result",
          "data": {
            "text/plain": [
              "{1, 1000, 24, 56, 67.89, 98.7, 'Messi', 'hello'}"
            ]
          },
          "metadata": {},
          "execution_count": 5
        }
      ]
    },
    {
      "cell_type": "code",
      "source": [
        "set1.remove(56)\n"
      ],
      "metadata": {
        "id": "Q0sMAEc8_2zf"
      },
      "execution_count": 6,
      "outputs": []
    },
    {
      "cell_type": "code",
      "source": [
        "set1"
      ],
      "metadata": {
        "id": "RutzVVBR_7ap",
        "outputId": "3a070117-0124-4ed8-b246-ca2021635a47",
        "colab": {
          "base_uri": "https://localhost:8080/"
        }
      },
      "execution_count": 7,
      "outputs": [
        {
          "output_type": "execute_result",
          "data": {
            "text/plain": [
              "{1, 1000, 24, 67.89, 98.7, 'Messi', 'hello'}"
            ]
          },
          "metadata": {},
          "execution_count": 7
        }
      ]
    },
    {
      "cell_type": "code",
      "source": [],
      "metadata": {
        "id": "X4Oue52k_8PZ"
      },
      "execution_count": null,
      "outputs": []
    }
  ]
}