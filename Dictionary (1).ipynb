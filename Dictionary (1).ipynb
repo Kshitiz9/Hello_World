{
  "nbformat": 4,
  "nbformat_minor": 0,
  "metadata": {
    "colab": {
      "provenance": []
    },
    "kernelspec": {
      "name": "python3",
      "display_name": "Python 3"
    },
    "language_info": {
      "name": "python"
    }
  },
  "cells": [
    {
      "cell_type": "code",
      "execution_count": 1,
      "metadata": {
        "colab": {
          "base_uri": "https://localhost:8080/"
        },
        "id": "VFBy4sHDBhVi",
        "outputId": "ef951ade-16fc-4d45-b51e-bbd8f287387d"
      },
      "outputs": [
        {
          "output_type": "execute_result",
          "data": {
            "text/plain": [
              "{1: 'kiwi', 2: 'You', 3: 'are', 4: 143}"
            ]
          },
          "metadata": {},
          "execution_count": 1
        }
      ],
      "source": [
        "dic1={1:\"kiwi\", 2:\"You\", 3:\"are\", 4:143}\n",
        "dic1"
      ]
    },
    {
      "cell_type": "code",
      "source": [
        "dic1[4]"
      ],
      "metadata": {
        "colab": {
          "base_uri": "https://localhost:8080/"
        },
        "id": "tfFtLe1EB75E",
        "outputId": "d06199c5-3054-4b88-f331-09dd5e1cacfc"
      },
      "execution_count": 2,
      "outputs": [
        {
          "output_type": "execute_result",
          "data": {
            "text/plain": [
              "143"
            ]
          },
          "metadata": {},
          "execution_count": 2
        }
      ]
    },
    {
      "cell_type": "code",
      "source": [
        "dic1[3]"
      ],
      "metadata": {
        "colab": {
          "base_uri": "https://localhost:8080/",
          "height": 36
        },
        "id": "ywm13tEtCCez",
        "outputId": "71c1e219-7604-4728-c596-60aa74e9e0da"
      },
      "execution_count": 3,
      "outputs": [
        {
          "output_type": "execute_result",
          "data": {
            "text/plain": [
              "'are'"
            ],
            "application/vnd.google.colaboratory.intrinsic+json": {
              "type": "string"
            }
          },
          "metadata": {},
          "execution_count": 3
        }
      ]
    },
    {
      "cell_type": "code",
      "source": [
        "dic1[\"You\"]\n"
      ],
      "metadata": {
        "colab": {
          "base_uri": "https://localhost:8080/",
          "height": 165
        },
        "id": "NdU3qYcICEws",
        "outputId": "23b33fb0-08c3-4496-cec2-040da0f8a2c9"
      },
      "execution_count": 4,
      "outputs": [
        {
          "output_type": "error",
          "ename": "KeyError",
          "evalue": "ignored",
          "traceback": [
            "\u001b[0;31m---------------------------------------------------------------------------\u001b[0m",
            "\u001b[0;31mKeyError\u001b[0m                                  Traceback (most recent call last)",
            "\u001b[0;32m<ipython-input-4-1f9ab5c0e647>\u001b[0m in \u001b[0;36m<module>\u001b[0;34m\u001b[0m\n\u001b[0;32m----> 1\u001b[0;31m \u001b[0mdic1\u001b[0m\u001b[0;34m[\u001b[0m\u001b[0;34m\"You\"\u001b[0m\u001b[0;34m]\u001b[0m\u001b[0;34m\u001b[0m\u001b[0;34m\u001b[0m\u001b[0m\n\u001b[0m",
            "\u001b[0;31mKeyError\u001b[0m: 'You'"
          ]
        }
      ]
    },
    {
      "cell_type": "code",
      "source": [
        "dic1[\"are\"]=\"have\"\n"
      ],
      "metadata": {
        "id": "RVqBfXCUCJIl"
      },
      "execution_count": 5,
      "outputs": []
    },
    {
      "cell_type": "code",
      "source": [
        "dic1"
      ],
      "metadata": {
        "colab": {
          "base_uri": "https://localhost:8080/"
        },
        "id": "wKMLr86vCYD9",
        "outputId": "ca32fa9c-a3c3-4244-c3bf-67124a9acc3f"
      },
      "execution_count": 6,
      "outputs": [
        {
          "output_type": "execute_result",
          "data": {
            "text/plain": [
              "{1: 'kiwi', 2: 'You', 3: 'are', 4: 143, 'are': 'have'}"
            ]
          },
          "metadata": {},
          "execution_count": 6
        }
      ]
    },
    {
      "cell_type": "code",
      "source": [
        "dic1[2]=\"We\"\n"
      ],
      "metadata": {
        "id": "ItGUPzFVCZQo"
      },
      "execution_count": 7,
      "outputs": []
    },
    {
      "cell_type": "code",
      "source": [
        "dic1"
      ],
      "metadata": {
        "colab": {
          "base_uri": "https://localhost:8080/"
        },
        "id": "8S2FAk1OCio1",
        "outputId": "b2fa3fab-7d64-4b5b-8757-22e4ee4f2c67"
      },
      "execution_count": 8,
      "outputs": [
        {
          "output_type": "execute_result",
          "data": {
            "text/plain": [
              "{1: 'kiwi', 2: 'We', 3: 'are', 4: 143, 'are': 'have'}"
            ]
          },
          "metadata": {},
          "execution_count": 8
        }
      ]
    },
    {
      "cell_type": "code",
      "source": [
        "dic1[6]=\"Messi\"\n"
      ],
      "metadata": {
        "id": "plGDr3TKCjyb"
      },
      "execution_count": 9,
      "outputs": []
    },
    {
      "cell_type": "code",
      "source": [
        "dic1"
      ],
      "metadata": {
        "colab": {
          "base_uri": "https://localhost:8080/"
        },
        "id": "kv_69BvpDgFj",
        "outputId": "671510bf-5b17-45c5-8731-f2e2ff7c7edc"
      },
      "execution_count": 10,
      "outputs": [
        {
          "output_type": "execute_result",
          "data": {
            "text/plain": [
              "{1: 'kiwi', 2: 'We', 3: 'are', 4: 143, 'are': 'have', 6: 'Messi'}"
            ]
          },
          "metadata": {},
          "execution_count": 10
        }
      ]
    },
    {
      "cell_type": "code",
      "source": [],
      "metadata": {
        "id": "Z_E6fAK9DhSz"
      },
      "execution_count": null,
      "outputs": []
    }
  ]
}